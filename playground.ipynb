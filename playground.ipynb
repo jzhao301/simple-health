{
 "cells": [
  {
   "cell_type": "code",
   "execution_count": 5,
   "metadata": {},
   "outputs": [
    {
     "name": "stdout",
     "output_type": "stream",
     "text": [
      "['Increased thirst', 'frequent urination', 'unexplained weight loss', 'extreme fatigue', 'blurred vision', 'slow wound healing', 'frequent infections.']\n"
     ]
    }
   ],
   "source": [
    "import openai\n",
    "import os\n",
    "import dotenv\n",
    "\n",
    "from openai import OpenAI\n",
    "client = OpenAI()\n",
    "\n",
    "dotenv.load_dotenv()\n",
    "\n",
    "def generate_completion(prompt):\n",
    "    openai.api_key = os.getenv(\"OPENAI_API_KEY\")\n",
    "\n",
    "    new_prompt = \"What are some important symptoms of \" + prompt + \"?\"\n",
    "\n",
    "    response = client.chat.completions.create(\n",
    "    model=\"gpt-3.5-turbo\",\n",
    "    messages=[\n",
    "        {\"role\": \"system\", \"content\": \"You are a knowledgable assistant, an expert in clinical trials and know important symptoms of diseases.\\n\\nGiven the prompt: 'What are some important symptoms of __?' please provide a list of symptoms that are comma separated.\"},\n",
    "        {\"role\": \"user\", \"content\": new_prompt},]\n",
    "    )\n",
    "\n",
    "    completion = response.choices[0].message.content\n",
    "\n",
    "    symptoms = completion.split(\", \")\n",
    "\n",
    "    return symptoms"
   ]
  },
  {
   "cell_type": "code",
   "execution_count": null,
   "metadata": {},
   "outputs": [],
   "source": []
  }
 ],
 "metadata": {
  "kernelspec": {
   "display_name": "simplecell",
   "language": "python",
   "name": "python3"
  },
  "language_info": {
   "codemirror_mode": {
    "name": "ipython",
    "version": 3
   },
   "file_extension": ".py",
   "mimetype": "text/x-python",
   "name": "python",
   "nbconvert_exporter": "python",
   "pygments_lexer": "ipython3",
   "version": "3.12.2"
  }
 },
 "nbformat": 4,
 "nbformat_minor": 2
}
